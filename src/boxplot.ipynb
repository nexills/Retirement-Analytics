{
 "cells": [
  {
   "cell_type": "markdown",
   "id": "d4e9462d",
   "metadata": {},
   "source": [
    "For reference"
   ]
  },
  {
   "cell_type": "markdown",
   "id": "7312b03b",
   "metadata": {},
   "source": [
    "Since retirement age is given as a range, in my analysis I replaced each response with 5 entries, one for each year in the range for a boxplot. \n",
    "This is how it would look like if I used the median of each range instead."
   ]
  },
  {
   "cell_type": "code",
   "execution_count": null,
   "id": "91367ef2",
   "metadata": {},
   "outputs": [],
   "source": [
    "import pandas as pd\n",
    "import numpy as np\n",
    "import matplotlib.pyplot as plt\n",
    "import seaborn as sns"
   ]
  },
  {
   "cell_type": "code",
   "execution_count": 11,
   "id": "8df3f763",
   "metadata": {},
   "outputs": [],
   "source": [
    "data = pd.read_csv('2023cleaned.csv')\n",
    "\n",
    "def get_median_in_range(age_range):\n",
    "    if age_range == \"71+\":\n",
    "        return 73\n",
    "    low, high = map(int, age_range.split('-'))\n",
    "    return (low + high) // 2\n",
    "\n",
    "data['Children'] = data['Children'].fillna(0)\n",
    "data['Additional Children'] = data['Additional Children'].fillna(0)\n",
    "data['Totalchildren'] = data['Children'] + data['Additional Children']\n",
    "data = data[data['Retire age'] != 'Undecided'].dropna(subset=['Retire age'])\n",
    "data['Retire age'] = data['Retire age'].apply(get_median_in_range)\n"
   ]
  },
  {
   "cell_type": "code",
   "execution_count": 12,
   "id": "b498666f",
   "metadata": {},
   "outputs": [
    {
     "data": {
      "text/plain": [
       "Text(0, 0.5, 'Predicted Retirement Age')"
      ]
     },
     "execution_count": 12,
     "metadata": {},
     "output_type": "execute_result"
    },
    {
     "data": {
      "image/png": "[encoded data removed]",
      "text/plain": [
       "<Figure size 640x480 with 1 Axes>"
      ]
     },
     "metadata": {},
     "output_type": "display_data"
    }
   ],
   "source": [
    "data['Totalchildren'] = data['Totalchildren'].astype(int)\n",
    "\n",
    "sns.boxplot(x='Totalchildren', y='Retire age', data=data, showfliers=False, order=range(9))\n",
    "plt.title(\"Predicted Retirement Age by Number of Children\")\n",
    "plt.xlabel('Number of children (now or future)')\n",
    "plt.ylabel('Predicted Retirement Age')"
   ]
  },
  {
   "cell_type": "markdown",
   "id": "91f9b3c2",
   "metadata": {},
   "source": [
    "The data looks like this:"
   ]
  },
  {
   "cell_type": "code",
   "execution_count": 13,
   "id": "fbbbd0a9",
   "metadata": {},
   "outputs": [
    {
     "name": "stdout",
     "output_type": "stream",
     "text": [
      "    Totalchildren  Retire age\n",
      "0               0          63\n",
      "4               0          43\n",
      "6               2          38\n",
      "10              3          33\n",
      "11              2          48\n",
      "12              2          48\n",
      "14              2          53\n",
      "17              3          43\n",
      "19              0          48\n",
      "20              1          58\n",
      "21              0          48\n",
      "23              0          53\n",
      "25              0          58\n",
      "27              2          58\n",
      "28              2          68\n",
      "29              2          48\n",
      "30              0          43\n",
      "32              2          38\n",
      "33              5          73\n",
      "34              0          48\n"
     ]
    }
   ],
   "source": [
    "print(data[['Totalchildren', 'Retire age']].head(20))"
   ]
  },
  {
   "cell_type": "markdown",
   "id": "3722f50f",
   "metadata": {},
   "source": [
    "The boxplots pretty much have the same LQ, M and UQ in every case, even though the number of people in each range is different. An example:\n",
    "\n",
    "[23, 23, 23, 23, 28, 28, 28, 28, 33] -> M 28\n",
    "\n",
    "[23, 28, 28, 28, 28, 33, 33, 38, 38] -> M 28\n",
    "\n",
    "But the original data is a range, someone aged 23 here can actually be anywhere from 21 to 25.\n",
    "So even if the actual data is this, taking the median will report the same for both groups:\n",
    "\n",
    "[21, 22, 23, 24, 26, 27, 29, 30, 32] -> M 26\n",
    "\n",
    "[24, 26, 27, 28, 29, 32, 34, 37, 40] -> M 29\n",
    "\n",
    "On a larger scale, I can assume that for x people reporting their age from 31 to 35, there is probably x/5 people at age 31, x/5 at 32, and so on.\n",
    "\n",
    "Thus I think taking the second approach makes more sense:"
   ]
  },
  {
   "cell_type": "code",
   "execution_count": 14,
   "id": "9975dbd1",
   "metadata": {},
   "outputs": [
    {
     "name": "stdout",
     "output_type": "stream",
     "text": [
      "   median ages  statistics possible age\n",
      "0           23           1           21\n",
      "0           23           1           22\n",
      "0           23           1           23\n",
      "0           23           1           24\n",
      "0           23           1           25\n",
      "1           28           2           26\n",
      "1           28           2           27\n",
      "1           28           2           28\n",
      "1           28           2           29\n",
      "1           28           2           30\n",
      "2           28           3           26\n",
      "2           28           3           27\n",
      "2           28           3           28\n",
      "2           28           3           29\n",
      "2           28           3           30\n",
      "New median: 27.0\n"
     ]
    }
   ],
   "source": [
    "def expand_row(val):\n",
    "    return list(np.arange(val-2, val+3))\n",
    "\n",
    "test = pd.DataFrame({\n",
    "    'median ages': [23, 28, 28],\n",
    "    'statistics': [1, 2, 3]\n",
    "})\n",
    "test['possible age'] = test['median ages'].apply(expand_row)\n",
    "test = test.explode('possible age')\n",
    "print(test)\n",
    "print(\"New median:\", test['possible age'].median())"
   ]
  },
  {
   "cell_type": "markdown",
   "id": "b465c0c2",
   "metadata": {},
   "source": [
    "Taking the LQ, M and UQ will report a more accurate estimate of the actual LQ, M, UQ when the dataset is sufficiently large. To some extent this is mixing mean and median."
   ]
  },
  {
   "cell_type": "code",
   "execution_count": 21,
   "id": "2b793f72",
   "metadata": {},
   "outputs": [
    {
     "name": "stdout",
     "output_type": "stream",
     "text": [
      "Old median: 28.0 28.0\n",
      "Mean: 26.333333333333332 30.77777777777778\n",
      "New median: 26.0 30.0\n"
     ]
    }
   ],
   "source": [
    "test2 = pd.DataFrame({\n",
    "    'median ages': [23, 23, 23, 23, 28, 28, 28, 28, 33]\n",
    "})\n",
    "test3 = pd.DataFrame({\n",
    "    'median ages': [23, 28, 28, 28, 28, 33, 33, 38, 38]\n",
    "})\n",
    "\n",
    "test2['possible age'] = test2['median ages'].apply(expand_row)\n",
    "test2 = test2.explode('possible age')\n",
    "test3['possible age'] = test3['median ages'].apply(expand_row)\n",
    "test3 = test3.explode('possible age')\n",
    "print(\"Old median:\", test2['median ages'].median(), test3['median ages'].median())\n",
    "print(\"Mean:\", test2['median ages'].mean(), test3['median ages'].mean())\n",
    "print(\"New median:\", test2['possible age'].median(), test3['possible age'].median())"
   ]
  },
  {
   "cell_type": "code",
   "execution_count": 16,
   "id": "aaed9c25",
   "metadata": {},
   "outputs": [
    {
     "data": {
      "text/plain": [
       "Text(0, 0.5, 'Predicted Retirement Age')"
      ]
     },
     "execution_count": 16,
     "metadata": {},
     "output_type": "execute_result"
    },
    {
     "data": {
      "image/png": "[encoded data removed]",
      "text/plain": [
       "<Figure size 640x480 with 1 Axes>"
      ]
     },
     "metadata": {},
     "output_type": "display_data"
    }
   ],
   "source": [
    "data['alt age'] = data['Retire age'].apply(expand_row)\n",
    "exploded = data[['Totalchildren', 'alt age']].explode('alt age')\n",
    "\n",
    "sns.boxplot(x='Totalchildren', y='alt age', data=exploded, showfliers=False, order=range(9))\n",
    "plt.title(\"Predicted Retirement Age by Number of Children\")\n",
    "plt.xlabel('Number of children (now or future)')\n",
    "plt.ylabel('Predicted Retirement Age')"
   ]
  }
 ],
 "metadata": {
  "kernelspec": {
   "display_name": "Python 3",
   "language": "python",
   "name": "python3"
  },
  "language_info": {
   "codemirror_mode": {
    "name": "ipython",
    "version": 3
   },
   "file_extension": ".py",
   "mimetype": "text/x-python",
   "name": "python",
   "nbconvert_exporter": "python",
   "pygments_lexer": "ipython3",
   "version": "3.12.5"
  }
 },
 "nbformat": 4,
 "nbformat_minor": 5
}
